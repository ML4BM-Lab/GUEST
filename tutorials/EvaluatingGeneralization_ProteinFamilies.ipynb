{
 "cells": [
  {
   "cell_type": "markdown",
   "metadata": {},
   "source": [
    "This jupyter notebook provide a easy-to-follow tutorial to generate splits in a St-fashion, in which proteins within every fold will belong to specific protein families. \n",
    "We will use the Chembl database that offers the labelling of every protein to each protein family. "
   ]
  },
  {
   "cell_type": "code",
   "execution_count": 9,
   "metadata": {},
   "outputs": [],
   "source": [
    "import pandas as pd\n",
    "import os\n",
    "from collections import Counter\n",
    "from tqdm import tqdm\n",
    "import matplotlib.pyplot as plt\n",
    "from sklearn.model_selection import train_test_split\n",
    "import pickle\n",
    "import random\n",
    "import itertools"
   ]
  },
  {
   "cell_type": "markdown",
   "metadata": {},
   "source": [
    "We will use the DrugBank dataset for this tutorial, which we have made available in the tutorial folder of this repository"
   ]
  },
  {
   "cell_type": "code",
   "execution_count": 10,
   "metadata": {},
   "outputs": [
    {
     "data": {
      "text/html": [
       "<div>\n",
       "<style scoped>\n",
       "    .dataframe tbody tr th:only-of-type {\n",
       "        vertical-align: middle;\n",
       "    }\n",
       "\n",
       "    .dataframe tbody tr th {\n",
       "        vertical-align: top;\n",
       "    }\n",
       "\n",
       "    .dataframe thead th {\n",
       "        text-align: right;\n",
       "    }\n",
       "</style>\n",
       "<table border=\"1\" class=\"dataframe\">\n",
       "  <thead>\n",
       "    <tr style=\"text-align: right;\">\n",
       "      <th></th>\n",
       "      <th>Drug ID</th>\n",
       "      <th>Gene</th>\n",
       "    </tr>\n",
       "  </thead>\n",
       "  <tbody>\n",
       "    <tr>\n",
       "      <th>0</th>\n",
       "      <td>DB00002</td>\n",
       "      <td>P08637</td>\n",
       "    </tr>\n",
       "    <tr>\n",
       "      <th>1</th>\n",
       "      <td>DB00002</td>\n",
       "      <td>P12314</td>\n",
       "    </tr>\n",
       "    <tr>\n",
       "      <th>2</th>\n",
       "      <td>DB00004</td>\n",
       "      <td>P31785</td>\n",
       "    </tr>\n",
       "    <tr>\n",
       "      <th>3</th>\n",
       "      <td>DB00005</td>\n",
       "      <td>P02747</td>\n",
       "    </tr>\n",
       "    <tr>\n",
       "      <th>4</th>\n",
       "      <td>DB00006</td>\n",
       "      <td>P00734</td>\n",
       "    </tr>\n",
       "    <tr>\n",
       "      <th>...</th>\n",
       "      <td>...</td>\n",
       "      <td>...</td>\n",
       "    </tr>\n",
       "    <tr>\n",
       "      <th>26414</th>\n",
       "      <td>DB16703</td>\n",
       "      <td>Q13464</td>\n",
       "    </tr>\n",
       "    <tr>\n",
       "      <th>26415</th>\n",
       "      <td>DB16703</td>\n",
       "      <td>O75116</td>\n",
       "    </tr>\n",
       "    <tr>\n",
       "      <th>26416</th>\n",
       "      <td>DB16703</td>\n",
       "      <td>P10632</td>\n",
       "    </tr>\n",
       "    <tr>\n",
       "      <th>26417</th>\n",
       "      <td>DB16733</td>\n",
       "      <td>Q9H2S1</td>\n",
       "    </tr>\n",
       "    <tr>\n",
       "      <th>26418</th>\n",
       "      <td>DB16737</td>\n",
       "      <td>O15393</td>\n",
       "    </tr>\n",
       "  </tbody>\n",
       "</table>\n",
       "<p>26419 rows × 2 columns</p>\n",
       "</div>"
      ],
      "text/plain": [
       "       Drug ID    Gene\n",
       "0      DB00002  P08637\n",
       "1      DB00002  P12314\n",
       "2      DB00004  P31785\n",
       "3      DB00005  P02747\n",
       "4      DB00006  P00734\n",
       "...        ...     ...\n",
       "26414  DB16703  Q13464\n",
       "26415  DB16703  O75116\n",
       "26416  DB16703  P10632\n",
       "26417  DB16733  Q9H2S1\n",
       "26418  DB16737  O15393\n",
       "\n",
       "[26419 rows x 2 columns]"
      ]
     },
     "execution_count": 10,
     "metadata": {},
     "output_type": "execute_result"
    }
   ],
   "source": [
    "# Load the DTI network in the form of a 2-columns file.\n",
    "drugbank_dtis = pd.read_csv(os.path.join('data','drugbank_dtis.tsv'),sep='\\t', index_col=0)\n",
    "drugbank_dtis"
   ]
  },
  {
   "cell_type": "code",
   "execution_count": 11,
   "metadata": {},
   "outputs": [
    {
     "data": {
      "text/html": [
       "<div>\n",
       "<style scoped>\n",
       "    .dataframe tbody tr th:only-of-type {\n",
       "        vertical-align: middle;\n",
       "    }\n",
       "\n",
       "    .dataframe tbody tr th {\n",
       "        vertical-align: top;\n",
       "    }\n",
       "\n",
       "    .dataframe thead th {\n",
       "        text-align: right;\n",
       "    }\n",
       "</style>\n",
       "<table border=\"1\" class=\"dataframe\">\n",
       "  <thead>\n",
       "    <tr style=\"text-align: right;\">\n",
       "      <th></th>\n",
       "      <th>id</th>\n",
       "      <th>Class</th>\n",
       "    </tr>\n",
       "  </thead>\n",
       "  <tbody>\n",
       "    <tr>\n",
       "      <th>0</th>\n",
       "      <td>P32397</td>\n",
       "      <td>enzyme</td>\n",
       "    </tr>\n",
       "    <tr>\n",
       "      <th>1</th>\n",
       "      <td>H0YE48</td>\n",
       "      <td>notAnnotated</td>\n",
       "    </tr>\n",
       "    <tr>\n",
       "      <th>2</th>\n",
       "      <td>P27694</td>\n",
       "      <td>dna-binding</td>\n",
       "    </tr>\n",
       "    <tr>\n",
       "      <th>3</th>\n",
       "      <td>P80188</td>\n",
       "      <td>notAnnotated</td>\n",
       "    </tr>\n",
       "    <tr>\n",
       "      <th>4</th>\n",
       "      <td>O14594</td>\n",
       "      <td>notAnnotated</td>\n",
       "    </tr>\n",
       "    <tr>\n",
       "      <th>...</th>\n",
       "      <td>...</td>\n",
       "      <td>...</td>\n",
       "    </tr>\n",
       "    <tr>\n",
       "      <th>6161</th>\n",
       "      <td>Q03405</td>\n",
       "      <td>receptor</td>\n",
       "    </tr>\n",
       "    <tr>\n",
       "      <th>6162</th>\n",
       "      <td>A1L3X4</td>\n",
       "      <td>notAnnotated</td>\n",
       "    </tr>\n",
       "    <tr>\n",
       "      <th>6163</th>\n",
       "      <td>P08183</td>\n",
       "      <td>enzyme</td>\n",
       "    </tr>\n",
       "    <tr>\n",
       "      <th>6164</th>\n",
       "      <td>Q15858</td>\n",
       "      <td>ion channel</td>\n",
       "    </tr>\n",
       "    <tr>\n",
       "      <th>6165</th>\n",
       "      <td>Q9Y6I3</td>\n",
       "      <td>notAnnotated</td>\n",
       "    </tr>\n",
       "  </tbody>\n",
       "</table>\n",
       "<p>6166 rows × 2 columns</p>\n",
       "</div>"
      ],
      "text/plain": [
       "          id         Class\n",
       "0     P32397        enzyme\n",
       "1     H0YE48  notAnnotated\n",
       "2     P27694   dna-binding\n",
       "3     P80188  notAnnotated\n",
       "4     O14594  notAnnotated\n",
       "...      ...           ...\n",
       "6161  Q03405      receptor\n",
       "6162  A1L3X4  notAnnotated\n",
       "6163  P08183        enzyme\n",
       "6164  Q15858   ion channel\n",
       "6165  Q9Y6I3  notAnnotated\n",
       "\n",
       "[6166 rows x 2 columns]"
      ]
     },
     "execution_count": 11,
     "metadata": {},
     "output_type": "execute_result"
    }
   ],
   "source": [
    "# Load a generated pickle file that contains several protein families for 6k+ proteins\n",
    "proteins_annot_full = pd.read_pickle(os.path.join('data','proteins_annot_full.pkl'))[['id','Class']]\n",
    "proteins_annot_full"
   ]
  },
  {
   "cell_type": "code",
   "execution_count": 12,
   "metadata": {},
   "outputs": [
    {
     "data": {
      "image/png": "[encoded data removed]",
      "text/plain": [
       "<Figure size 1400x800 with 1 Axes>"
      ]
     },
     "metadata": {},
     "output_type": "display_data"
    }
   ],
   "source": [
    "pfamilies_counter = Counter(proteins_annot_full['Class'])\n",
    "\n",
    "# Prepare the data for plotting\n",
    "pfamilies = [(k,v) for k,v in pfamilies_counter.items()]\n",
    "pfamilies = sorted(pfamilies, key=lambda x:x[1], reverse=False)\n",
    "\n",
    "# Create the bar plot\n",
    "plt.figure(figsize=(14, 8))\n",
    "plt.barh(list(map(lambda x: x[0], pfamilies)), list(map(lambda x: x[1], pfamilies)), color='skyblue')\n",
    "plt.xlabel('Protein Families')\n",
    "plt.ylabel('Count')\n",
    "plt.title('Count of Proteins by Family')\n",
    "plt.tight_layout()\n"
   ]
  },
  {
   "cell_type": "markdown",
   "metadata": {},
   "source": [
    "We will work with 2 dictionaries containing protein-to-aminoacid sequence mapping, and drug-to-smile sequence mapping, respectively. We have already generated pickle files for this purpose."
   ]
  },
  {
   "cell_type": "code",
   "execution_count": 13,
   "metadata": {},
   "outputs": [],
   "source": [
    "## load drug-smile dict\n",
    "with open(os.path.join('data','smile_dict.pickle'), 'rb') as handle:\n",
    "    smile_dict = pickle.load(handle)\n",
    "    \n",
    "## load protein-aa seq dict\n",
    "with open(os.path.join('data','aa_dict.pickle'), 'rb') as handle:\n",
    "    aa_dict = pickle.load(handle)"
   ]
  },
  {
   "cell_type": "markdown",
   "metadata": {},
   "source": [
    "As it can be seen in the figure, this labelling is highly imbalance, so we will use a cross-validation fashion to evaluate each of the folds, except for \"notAnnotated\" and \"other\" categories, but we will consider them for training in order not to drop interactions."
   ]
  },
  {
   "cell_type": "code",
   "execution_count": 19,
   "metadata": {},
   "outputs": [
    {
     "name": "stderr",
     "output_type": "stream",
     "text": [
      "iterating protein classes... for St:   0%|          | 0/23 [00:00<?, ?it/s]"
     ]
    },
    {
     "name": "stdout",
     "output_type": "stream",
     "text": [
      "class enzyme - we are using 3309\n"
     ]
    },
    {
     "name": "stderr",
     "output_type": "stream",
     "text": [
      "iterating protein classes... for St:   4%|▍         | 1/23 [00:21<07:51, 21.42s/it]"
     ]
    },
    {
     "name": "stdout",
     "output_type": "stream",
     "text": [
      "class notAnnotated - we are using 1467\n"
     ]
    },
    {
     "name": "stderr",
     "output_type": "stream",
     "text": [
      "iterating protein classes... for St:  17%|█▋        | 4/23 [00:29<01:26,  4.57s/it]"
     ]
    },
    {
     "name": "stdout",
     "output_type": "stream",
     "text": [
      "class dna-binding - we are using 83\n",
      "class developmental protein - we are using 33\n",
      "class receptor - we are using 408\n"
     ]
    },
    {
     "name": "stderr",
     "output_type": "stream",
     "text": [
      "iterating protein classes... for St:  22%|██▏       | 5/23 [00:31<01:02,  3.47s/it]"
     ]
    },
    {
     "name": "stdout",
     "output_type": "stream",
     "text": [
      "class ion channel - we are using 278\n"
     ]
    },
    {
     "name": "stderr",
     "output_type": "stream",
     "text": [
      "iterating protein classes... for St:  26%|██▌       | 6/23 [00:32<00:46,  2.71s/it]"
     ]
    },
    {
     "name": "stdout",
     "output_type": "stream",
     "text": [
      "class chromatin regulator - we are using 17\n",
      "class rna-binding - we are using 81\n"
     ]
    },
    {
     "name": "stderr",
     "output_type": "stream",
     "text": [
      "iterating protein classes... for St:  35%|███▍      | 8/23 [00:32<00:22,  1.47s/it]"
     ]
    },
    {
     "name": "stdout",
     "output_type": "stream",
     "text": [
      "class other - we are using 116\n"
     ]
    },
    {
     "name": "stderr",
     "output_type": "stream",
     "text": [
      "iterating protein classes... for St:  52%|█████▏    | 12/23 [00:33<00:06,  1.69it/s]"
     ]
    },
    {
     "name": "stdout",
     "output_type": "stream",
     "text": [
      "class cytokine - we are using 36\n",
      "class actin-binding - we are using 29\n",
      "class chaperone - we are using 34\n",
      "class activator - we are using 82\n"
     ]
    },
    {
     "name": "stderr",
     "output_type": "stream",
     "text": [
      "iterating protein classes... for St:  78%|███████▊  | 18/23 [00:34<00:01,  4.90it/s]"
     ]
    },
    {
     "name": "stdout",
     "output_type": "stream",
     "text": [
      "class integrin - we are using 11\n",
      "class protease inhibitor - we are using 24\n",
      "class elongation factor - we are using 12\n",
      "class heparin-binding - we are using 16\n",
      "class calmodulin-binding - we are using 24\n",
      "class porin - we are using 18\n",
      "class ribonucleoprotein - we are using 38\n"
     ]
    },
    {
     "name": "stderr",
     "output_type": "stream",
     "text": [
      "iterating protein classes... for St: 100%|██████████| 23/23 [00:34<00:00,  1.51s/it]\n"
     ]
    },
    {
     "name": "stdout",
     "output_type": "stream",
     "text": [
      "class hormone - we are using 14\n",
      "class growth factor - we are using 16\n",
      "class antimicrobial - we are using 20\n"
     ]
    }
   ],
   "source": [
    "def build_row(df):\n",
    "\n",
    "    df_drugs, df_genes = df.iloc[:,0].values, df.iloc[:,1].values\n",
    "\n",
    "    smiles_drugs = list(map(lambda x: smile_dict[x], df_drugs))\n",
    "    aa_seq = list(map(lambda x: aa_dict[x], df_genes))\n",
    "\n",
    "    df['SMILES'] = smiles_drugs\n",
    "    df['Target Sequence'] = aa_seq\n",
    "\n",
    "    return df\n",
    "\n",
    "#set of protein families\n",
    "protein_classes = proteins_annot_full['Class'].unique()\n",
    "\n",
    "#init vars to store folds\n",
    "folds_dict = {}\n",
    "folds = []\n",
    "\n",
    "#init seed\n",
    "seed = 42\n",
    "drugs = drugbank_dtis.iloc[:,0].values\n",
    "\n",
    "for pclass in tqdm(protein_classes, desc = 'iterating protein classes... for St'):\n",
    "    \n",
    "    #get subdataset\n",
    "    proteins_pclass = proteins_annot_full[proteins_annot_full['Class'] == pclass]['id'].unique()\n",
    "\n",
    "    print(f\"class {pclass} - we are using {len(proteins_pclass)}\")\n",
    "\n",
    "    #get all positive interactions with cids drugss\n",
    "    pos_interactions_sclass = drugbank_dtis[drugbank_dtis.iloc[:,1].isin(proteins_pclass)].reset_index(drop=True)\n",
    "    sclass_prots = set(pos_interactions_sclass.iloc[:,1].values)\n",
    "\n",
    "    #subsample as many negatives as positive we have\n",
    "    set_pos_interactions_sclass = set([tuple(x) for x in pos_interactions_sclass.values])\n",
    "    random.seed(seed)\n",
    "    neg_interactions = random.sample(set(itertools.product(drugs, sclass_prots)).difference(set_pos_interactions_sclass), pos_interactions_sclass.shape[0])\n",
    "    \n",
    "    #build pos and neg dataframes\n",
    "    neg_interactions_sclass = pd.DataFrame(neg_interactions)\n",
    "    neg_interactions_sclass.columns = ['Drug ID', 'Gene']\n",
    "    pos_interactions_sclass['Label'] = 1\n",
    "    neg_interactions_sclass['Label'] = 0\n",
    "\n",
    "    #build a dataframe\n",
    "    sclass_df = build_row(pd.concat([pos_interactions_sclass, neg_interactions_sclass]))\n",
    "    sclass_df = sclass_df.sample(frac=1, random_state=seed)\n",
    "    folds_dict[pclass] = sclass_df\n",
    "    folds.append(sclass_df)\n",
    "\n",
    "## check St\n",
    "for i in range(len(folds)):\n",
    "    train_prots = set(pd.concat(folds[:i] + folds[i+1:])['Gene'])\n",
    "    test_prots = set(folds[i]['Gene'])\n",
    "    assert train_prots.intersection(test_prots) == set()\n"
   ]
  },
  {
   "cell_type": "markdown",
   "metadata": {},
   "source": [
    "Lets check if they accomplish Sd requirements, i.e., every drug in each fold does not appear in any other fold"
   ]
  },
  {
   "cell_type": "code",
   "execution_count": 20,
   "metadata": {},
   "outputs": [
    {
     "name": "stdout",
     "output_type": "stream",
     "text": [
      "fold 0 - St accomplish!\n",
      "fold 1 - St accomplish!\n",
      "fold 2 - St accomplish!\n",
      "fold 3 - St accomplish!\n",
      "fold 4 - St accomplish!\n",
      "fold 5 - St accomplish!\n",
      "fold 6 - St accomplish!\n",
      "fold 7 - St accomplish!\n",
      "fold 8 - St accomplish!\n",
      "fold 9 - St accomplish!\n",
      "fold 10 - St accomplish!\n",
      "fold 11 - St accomplish!\n",
      "fold 12 - St accomplish!\n",
      "fold 13 - St accomplish!\n",
      "fold 14 - St accomplish!\n",
      "fold 15 - St accomplish!\n",
      "fold 16 - St accomplish!\n",
      "fold 17 - St accomplish!\n",
      "fold 18 - St accomplish!\n",
      "fold 19 - St accomplish!\n",
      "fold 20 - St accomplish!\n",
      "fold 21 - St accomplish!\n",
      "fold 22 - St accomplish!\n"
     ]
    }
   ],
   "source": [
    "## check St\n",
    "for i in range(len(folds)):\n",
    "    train_prots = set(pd.concat(folds[:i] + folds[i+1:])['Gene'])\n",
    "    test_prots = set(folds[i]['Gene'])\n",
    "    assert train_prots.intersection(test_prots) == set()\n",
    "    print(f\"fold {i} - St accomplish!\")"
   ]
  },
  {
   "cell_type": "markdown",
   "metadata": {},
   "source": [
    "Everything looks good, now we can save these folds. For every fold, 3 (train, val, test) .csv files will be generated.\n",
    "The test will contain interactions where drugs accomplish Sd constraints, and only belong to a single Superclass category."
   ]
  },
  {
   "cell_type": "code",
   "execution_count": 18,
   "metadata": {},
   "outputs": [],
   "source": [
    "#generate folder\n",
    "seed_fpath = os.path.join('data','splits_chembl_drugbank',f'seed_{seed}')\n",
    "if not os.path.exists(seed_fpath):\n",
    "    os.makedirs(seed_fpath)\n",
    "\n",
    "#then folds\n",
    "info = []\n",
    "for i in range(len(folds)):\n",
    "\n",
    "    #we will not save notAnnotated or other\n",
    "    if protein_classes[i] == 'notAnnotated' or protein_classes[i] == 'other':\n",
    "        continue\n",
    "\n",
    "    #\n",
    "    info.append((i, protein_classes[i], folds[i].shape[0]))\n",
    "\n",
    "    #create folder\n",
    "    fold_fpath = os.path.join(seed_fpath, f'fold{i}')\n",
    "    if not os.path.exists(fold_fpath):\n",
    "        os.makedirs(fold_fpath)\n",
    "\n",
    "    #create train val and test\n",
    "    train_drugs = pd.concat(folds[:i] + folds[i+1:]).reset_index(drop=True)\n",
    "    test_drugs = folds[i].reset_index(drop=True)\n",
    "    train_drugs, val_drugs = train_test_split(train_drugs, test_size = 0.2)\n",
    "\n",
    "    ##save it\n",
    "    train_drugs.to_csv(os.path.join(fold_fpath, 'train.csv'))\n",
    "    val_drugs.to_csv(os.path.join(fold_fpath, 'val.csv'))\n",
    "    test_drugs.to_csv(os.path.join(fold_fpath, 'test.csv'))\n",
    "\n",
    "#build info dataframe and save it\n",
    "info_df = pd.DataFrame(info)\n",
    "info_df.columns = ['fold','proteinclass', '#edges']\n",
    "info_df.to_csv(os.path.join('data','splits_chembl_drugbank', 'info.tsv'),sep='\\t')"
   ]
  },
  {
   "cell_type": "markdown",
   "metadata": {},
   "source": [
    "These folds can be easily run by some of the inductive methods evaluated in the paper, such as Moltrans or HyperAttentionDTI. \n",
    "For instance, you can run Moltrans on these folds using the following commands:"
   ]
  }
 ],
 "metadata": {
  "kernelspec": {
   "display_name": "Python 3",
   "language": "python",
   "name": "python3"
  },
  "language_info": {
   "codemirror_mode": {
    "name": "ipython",
    "version": 3
   },
   "file_extension": ".py",
   "mimetype": "text/x-python",
   "name": "python",
   "nbconvert_exporter": "python",
   "pygments_lexer": "ipython3",
   "version": "3.8.10"
  }
 },
 "nbformat": 4,
 "nbformat_minor": 2
}

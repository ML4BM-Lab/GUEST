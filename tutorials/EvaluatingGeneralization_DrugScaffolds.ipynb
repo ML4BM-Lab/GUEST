{
 "cells": [
  {
   "cell_type": "markdown",
   "metadata": {},
   "source": [
    "This jupyter notebook provide a easy-to-follow tutorial to generate splits in a Sd-fashion, in which drugs within every fold will belong to specific scaffolds. \n",
    "We will use ClassyFire, a tool for automated chemical classification. "
   ]
  },
  {
   "cell_type": "code",
   "execution_count": 43,
   "metadata": {},
   "outputs": [],
   "source": [
    "import pandas as pd\n",
    "import os\n",
    "from collections import Counter\n",
    "from tqdm import tqdm\n",
    "import matplotlib.pyplot as plt\n",
    "from sklearn.model_selection import train_test_split\n",
    "import pickle\n",
    "import random\n",
    "import itertools"
   ]
  },
  {
   "cell_type": "markdown",
   "metadata": {},
   "source": [
    "We will use the DrugBank dataset for this tutorial, which we have made available in the tutorial folder of this repository"
   ]
  },
  {
   "cell_type": "code",
   "execution_count": 34,
   "metadata": {},
   "outputs": [
    {
     "data": {
      "text/html": [
       "<div>\n",
       "<style scoped>\n",
       "    .dataframe tbody tr th:only-of-type {\n",
       "        vertical-align: middle;\n",
       "    }\n",
       "\n",
       "    .dataframe tbody tr th {\n",
       "        vertical-align: top;\n",
       "    }\n",
       "\n",
       "    .dataframe thead th {\n",
       "        text-align: right;\n",
       "    }\n",
       "</style>\n",
       "<table border=\"1\" class=\"dataframe\">\n",
       "  <thead>\n",
       "    <tr style=\"text-align: right;\">\n",
       "      <th></th>\n",
       "      <th>Drug ID</th>\n",
       "      <th>Gene</th>\n",
       "    </tr>\n",
       "  </thead>\n",
       "  <tbody>\n",
       "    <tr>\n",
       "      <th>0</th>\n",
       "      <td>DB00002</td>\n",
       "      <td>P08637</td>\n",
       "    </tr>\n",
       "    <tr>\n",
       "      <th>1</th>\n",
       "      <td>DB00002</td>\n",
       "      <td>P12314</td>\n",
       "    </tr>\n",
       "    <tr>\n",
       "      <th>2</th>\n",
       "      <td>DB00004</td>\n",
       "      <td>P31785</td>\n",
       "    </tr>\n",
       "    <tr>\n",
       "      <th>3</th>\n",
       "      <td>DB00005</td>\n",
       "      <td>P02747</td>\n",
       "    </tr>\n",
       "    <tr>\n",
       "      <th>4</th>\n",
       "      <td>DB00006</td>\n",
       "      <td>P00734</td>\n",
       "    </tr>\n",
       "    <tr>\n",
       "      <th>...</th>\n",
       "      <td>...</td>\n",
       "      <td>...</td>\n",
       "    </tr>\n",
       "    <tr>\n",
       "      <th>26414</th>\n",
       "      <td>DB16703</td>\n",
       "      <td>Q13464</td>\n",
       "    </tr>\n",
       "    <tr>\n",
       "      <th>26415</th>\n",
       "      <td>DB16703</td>\n",
       "      <td>O75116</td>\n",
       "    </tr>\n",
       "    <tr>\n",
       "      <th>26416</th>\n",
       "      <td>DB16703</td>\n",
       "      <td>P10632</td>\n",
       "    </tr>\n",
       "    <tr>\n",
       "      <th>26417</th>\n",
       "      <td>DB16733</td>\n",
       "      <td>Q9H2S1</td>\n",
       "    </tr>\n",
       "    <tr>\n",
       "      <th>26418</th>\n",
       "      <td>DB16737</td>\n",
       "      <td>O15393</td>\n",
       "    </tr>\n",
       "  </tbody>\n",
       "</table>\n",
       "<p>26419 rows × 2 columns</p>\n",
       "</div>"
      ],
      "text/plain": [
       "       Drug ID    Gene\n",
       "0      DB00002  P08637\n",
       "1      DB00002  P12314\n",
       "2      DB00004  P31785\n",
       "3      DB00005  P02747\n",
       "4      DB00006  P00734\n",
       "...        ...     ...\n",
       "26414  DB16703  Q13464\n",
       "26415  DB16703  O75116\n",
       "26416  DB16703  P10632\n",
       "26417  DB16733  Q9H2S1\n",
       "26418  DB16737  O15393\n",
       "\n",
       "[26419 rows x 2 columns]"
      ]
     },
     "execution_count": 34,
     "metadata": {},
     "output_type": "execute_result"
    }
   ],
   "source": [
    "# Load the DTI network in the form of a 2-columns file.\n",
    "drugbank_dtis = pd.read_csv(os.path.join('data','drugbank_dtis.tsv'),sep='\\t', index_col=0)\n",
    "drugbank_dtis"
   ]
  },
  {
   "cell_type": "code",
   "execution_count": 35,
   "metadata": {},
   "outputs": [
    {
     "data": {
      "text/html": [
       "<div>\n",
       "<style scoped>\n",
       "    .dataframe tbody tr th:only-of-type {\n",
       "        vertical-align: middle;\n",
       "    }\n",
       "\n",
       "    .dataframe tbody tr th {\n",
       "        vertical-align: top;\n",
       "    }\n",
       "\n",
       "    .dataframe thead th {\n",
       "        text-align: right;\n",
       "    }\n",
       "</style>\n",
       "<table border=\"1\" class=\"dataframe\">\n",
       "  <thead>\n",
       "    <tr style=\"text-align: right;\">\n",
       "      <th></th>\n",
       "      <th>PubChemID</th>\n",
       "      <th>kingdom</th>\n",
       "      <th>superclass</th>\n",
       "      <th>class</th>\n",
       "      <th>subclass</th>\n",
       "    </tr>\n",
       "  </thead>\n",
       "  <tbody>\n",
       "    <tr>\n",
       "      <th>0</th>\n",
       "      <td>448781</td>\n",
       "      <td>Organic compounds</td>\n",
       "      <td>Benzenoids</td>\n",
       "      <td>Naphthalenes</td>\n",
       "      <td>Nitronaphthalenes</td>\n",
       "    </tr>\n",
       "    <tr>\n",
       "      <th>1</th>\n",
       "      <td>71655537</td>\n",
       "      <td>Organic compounds</td>\n",
       "      <td>Organic acids and derivatives</td>\n",
       "      <td>Carboxylic acids and derivatives</td>\n",
       "      <td>Hexacarboxylic acids and derivatives</td>\n",
       "    </tr>\n",
       "    <tr>\n",
       "      <th>2</th>\n",
       "      <td>44326982</td>\n",
       "      <td>Organic compounds</td>\n",
       "      <td>Organic oxygen compounds</td>\n",
       "      <td>Organooxygen compounds</td>\n",
       "      <td>Carbonyl compounds</td>\n",
       "    </tr>\n",
       "    <tr>\n",
       "      <th>3</th>\n",
       "      <td>446854</td>\n",
       "      <td>Organic compounds</td>\n",
       "      <td>Organic nitrogen compounds</td>\n",
       "      <td>Organonitrogen compounds</td>\n",
       "      <td>Amines</td>\n",
       "    </tr>\n",
       "    <tr>\n",
       "      <th>4</th>\n",
       "      <td>6323502</td>\n",
       "      <td>Organic compounds</td>\n",
       "      <td>Nucleosides, nucleotides, and analogues</td>\n",
       "      <td>Nucleoside and nucleotide analogues</td>\n",
       "      <td>2',3'-cyclic purine nucleoside phosphorothioates</td>\n",
       "    </tr>\n",
       "    <tr>\n",
       "      <th>...</th>\n",
       "      <td>...</td>\n",
       "      <td>...</td>\n",
       "      <td>...</td>\n",
       "      <td>...</td>\n",
       "      <td>...</td>\n",
       "    </tr>\n",
       "    <tr>\n",
       "      <th>10151</th>\n",
       "      <td>138403682</td>\n",
       "      <td>None</td>\n",
       "      <td>None</td>\n",
       "      <td>None</td>\n",
       "      <td>None</td>\n",
       "    </tr>\n",
       "    <tr>\n",
       "      <th>10152</th>\n",
       "      <td>46936357</td>\n",
       "      <td>Organic compounds</td>\n",
       "      <td>Organic acids and derivatives</td>\n",
       "      <td>Carboxylic acids and derivatives</td>\n",
       "      <td>Amino acids, peptides, and analogues</td>\n",
       "    </tr>\n",
       "    <tr>\n",
       "      <th>10153</th>\n",
       "      <td>5938</td>\n",
       "      <td>Organic compounds</td>\n",
       "      <td>Organic nitrogen compounds</td>\n",
       "      <td>Organonitrogen compounds</td>\n",
       "      <td>Quaternary ammonium salts</td>\n",
       "    </tr>\n",
       "    <tr>\n",
       "      <th>10154</th>\n",
       "      <td>73353070</td>\n",
       "      <td>Organic compounds</td>\n",
       "      <td>Organic acids and derivatives</td>\n",
       "      <td>Carboxylic acids and derivatives</td>\n",
       "      <td>Amino acids, peptides, and analogues</td>\n",
       "    </tr>\n",
       "    <tr>\n",
       "      <th>10155</th>\n",
       "      <td>5724</td>\n",
       "      <td>Organic compounds</td>\n",
       "      <td>Organoheterocyclic compounds</td>\n",
       "      <td>Diazanaphthalenes</td>\n",
       "      <td>Benzodiazines</td>\n",
       "    </tr>\n",
       "  </tbody>\n",
       "</table>\n",
       "<p>10156 rows × 5 columns</p>\n",
       "</div>"
      ],
      "text/plain": [
       "       PubChemID            kingdom                               superclass  \\\n",
       "0         448781  Organic compounds                               Benzenoids   \n",
       "1       71655537  Organic compounds            Organic acids and derivatives   \n",
       "2       44326982  Organic compounds                 Organic oxygen compounds   \n",
       "3         446854  Organic compounds               Organic nitrogen compounds   \n",
       "4        6323502  Organic compounds  Nucleosides, nucleotides, and analogues   \n",
       "...          ...                ...                                      ...   \n",
       "10151  138403682               None                                     None   \n",
       "10152   46936357  Organic compounds            Organic acids and derivatives   \n",
       "10153       5938  Organic compounds               Organic nitrogen compounds   \n",
       "10154   73353070  Organic compounds            Organic acids and derivatives   \n",
       "10155       5724  Organic compounds             Organoheterocyclic compounds   \n",
       "\n",
       "                                     class  \\\n",
       "0                             Naphthalenes   \n",
       "1         Carboxylic acids and derivatives   \n",
       "2                   Organooxygen compounds   \n",
       "3                 Organonitrogen compounds   \n",
       "4      Nucleoside and nucleotide analogues   \n",
       "...                                    ...   \n",
       "10151                                 None   \n",
       "10152     Carboxylic acids and derivatives   \n",
       "10153             Organonitrogen compounds   \n",
       "10154     Carboxylic acids and derivatives   \n",
       "10155                    Diazanaphthalenes   \n",
       "\n",
       "                                               subclass  \n",
       "0                                     Nitronaphthalenes  \n",
       "1                  Hexacarboxylic acids and derivatives  \n",
       "2                                    Carbonyl compounds  \n",
       "3                                                Amines  \n",
       "4      2',3'-cyclic purine nucleoside phosphorothioates  \n",
       "...                                                 ...  \n",
       "10151                                              None  \n",
       "10152              Amino acids, peptides, and analogues  \n",
       "10153                         Quaternary ammonium salts  \n",
       "10154              Amino acids, peptides, and analogues  \n",
       "10155                                     Benzodiazines  \n",
       "\n",
       "[10156 rows x 5 columns]"
      ]
     },
     "execution_count": 35,
     "metadata": {},
     "output_type": "execute_result"
    }
   ],
   "source": [
    "# For this tutorial, we will load a generated pickle file that contains several chemical descriptors for 10k+ drugs\n",
    "drugs_full = pd.read_pickle(os.path.join(\"data\",\"drugs_annot_full.pkl\"))\n",
    "drugs_full"
   ]
  },
  {
   "cell_type": "markdown",
   "metadata": {},
   "source": [
    "Lets first plot the Superclass distribution"
   ]
  },
  {
   "cell_type": "code",
   "execution_count": 36,
   "metadata": {},
   "outputs": [
    {
     "data": {
      "image/png": "[encoded data removed]",
      "text/plain": [
       "<Figure size 1400x800 with 1 Axes>"
      ]
     },
     "metadata": {},
     "output_type": "display_data"
    }
   ],
   "source": [
    "##drop nas and generate counter\n",
    "drug_full_superclass = drugs_full['superclass'].dropna().reset_index(drop=True)\n",
    "superclass_counter = Counter(drug_full_superclass)\n",
    "\n",
    "# Prepare the data for plotting\n",
    "superclass = [(k,v) for k,v in superclass_counter.items()]\n",
    "sorted_superclass = sorted(superclass, key=lambda x:x[1], reverse=False)\n",
    "\n",
    "# Create the bar plot\n",
    "plt.figure(figsize=(14, 8))\n",
    "plt.barh(list(map(lambda x: x[0], sorted_superclass)), list(map(lambda x: x[1], sorted_superclass)), color='skyblue')\n",
    "plt.xlabel('Superclass')\n",
    "plt.ylabel('Count')\n",
    "plt.title('Count of Compounds by Superclass')\n",
    "plt.tight_layout()\n"
   ]
  },
  {
   "cell_type": "markdown",
   "metadata": {},
   "source": [
    "In this tutorial, we will keep the top 10 superclasses according to the number of compounts they have."
   ]
  },
  {
   "cell_type": "code",
   "execution_count": 37,
   "metadata": {},
   "outputs": [],
   "source": [
    "#keep the top 10\n",
    "superclass = sorted(superclass, key=lambda x:x[1], reverse=True)[:10]"
   ]
  },
  {
   "cell_type": "markdown",
   "metadata": {},
   "source": [
    "We will work with 2 dictionaries containing protein-to-aminoacid sequence mapping, and drug-to-smile sequence mapping, respectively. We have already generated pickle files for this purpose."
   ]
  },
  {
   "cell_type": "code",
   "execution_count": 38,
   "metadata": {},
   "outputs": [],
   "source": [
    "## load drug-smile dict\n",
    "with open(os.path.join('data','smile_dict.pickle'), 'rb') as handle:\n",
    "    smile_dict = pickle.load(handle)\n",
    "    \n",
    "## load protein-aa seq dict\n",
    "with open(os.path.join('data','aa_dict.pickle'), 'rb') as handle:\n",
    "    aa_dict = pickle.load(handle)"
   ]
  },
  {
   "cell_type": "markdown",
   "metadata": {},
   "source": [
    "As Classyfire Drug ids are annotated usign PubChemID, we will first transform those IDs to DrugBank IDS. We have already generate a pickle dictionary for this purpose."
   ]
  },
  {
   "cell_type": "code",
   "execution_count": 39,
   "metadata": {},
   "outputs": [],
   "source": [
    "with open(os.path.join('data','cid_db_dict.pickle'), 'rb') as handle:\n",
    "    cid_db_dict = pickle.load(handle)"
   ]
  },
  {
   "cell_type": "markdown",
   "metadata": {},
   "source": [
    "We will know generate 1 fold for each superclass, so that the files can be used in a 10-fold CV fashion\n"
   ]
  },
  {
   "cell_type": "code",
   "execution_count": 42,
   "metadata": {},
   "outputs": [
    {
     "name": "stderr",
     "output_type": "stream",
     "text": [
      "iterating super classes... for Sd:   0%|          | 0/10 [00:00<?, ?it/s]"
     ]
    },
    {
     "name": "stdout",
     "output_type": "stream",
     "text": [
      "class Organoheterocyclic compounds - we are using 1999\n"
     ]
    },
    {
     "name": "stderr",
     "output_type": "stream",
     "text": [
      "iterating super classes... for Sd:  10%|█         | 1/10 [00:06<00:59,  6.66s/it]"
     ]
    },
    {
     "name": "stdout",
     "output_type": "stream",
     "text": [
      "class Benzenoids - we are using 1569\n"
     ]
    },
    {
     "name": "stderr",
     "output_type": "stream",
     "text": [
      "iterating super classes... for Sd:  20%|██        | 2/10 [00:11<00:45,  5.68s/it]"
     ]
    },
    {
     "name": "stdout",
     "output_type": "stream",
     "text": [
      "class Organic acids and derivatives - we are using 1239\n"
     ]
    },
    {
     "name": "stderr",
     "output_type": "stream",
     "text": [
      "iterating super classes... for Sd:  30%|███       | 3/10 [00:15<00:34,  4.93s/it]"
     ]
    },
    {
     "name": "stdout",
     "output_type": "stream",
     "text": [
      "class Organic oxygen compounds - we are using 545\n"
     ]
    },
    {
     "name": "stderr",
     "output_type": "stream",
     "text": [
      "iterating super classes... for Sd:  40%|████      | 4/10 [00:17<00:21,  3.65s/it]"
     ]
    },
    {
     "name": "stdout",
     "output_type": "stream",
     "text": [
      "class Lipids and lipid-like molecules - we are using 523\n"
     ]
    },
    {
     "name": "stderr",
     "output_type": "stream",
     "text": [
      "iterating super classes... for Sd:  50%|█████     | 5/10 [00:18<00:14,  2.91s/it]"
     ]
    },
    {
     "name": "stdout",
     "output_type": "stream",
     "text": [
      "class Phenylpropanoids and polyketides - we are using 272\n"
     ]
    },
    {
     "name": "stderr",
     "output_type": "stream",
     "text": [
      "iterating super classes... for Sd:  60%|██████    | 6/10 [00:19<00:08,  2.18s/it]"
     ]
    },
    {
     "name": "stdout",
     "output_type": "stream",
     "text": [
      "class Nucleosides, nucleotides, and analogues - we are using 304\n"
     ]
    },
    {
     "name": "stderr",
     "output_type": "stream",
     "text": [
      "iterating super classes... for Sd: 100%|██████████| 10/10 [00:21<00:00,  2.12s/it]"
     ]
    },
    {
     "name": "stdout",
     "output_type": "stream",
     "text": [
      "class Organic nitrogen compounds - we are using 157\n",
      "class Alkaloids and derivatives - we are using 78\n",
      "class Organic Polymers - we are using 26\n"
     ]
    },
    {
     "name": "stderr",
     "output_type": "stream",
     "text": [
      "\n"
     ]
    }
   ],
   "source": [
    "def build_row(df):\n",
    "\n",
    "        df_drugs, df_genes = df.iloc[:,0].values, df.iloc[:,1].values\n",
    "\n",
    "        smiles_drugs = list(map(lambda x: smile_dict[x], df_drugs))\n",
    "        aa_seq = list(map(lambda x: aa_dict[x], df_genes))\n",
    "\n",
    "        df['SMILES'] = smiles_drugs\n",
    "        df['Target Sequence'] = aa_seq\n",
    "\n",
    "        return df\n",
    "\n",
    "##init vars to store folds\n",
    "folds_dict = {}\n",
    "folds = []\n",
    "\n",
    "#define seed and set of genes/proteins to be used\n",
    "seed = 42\n",
    "genes = set(drugbank_dtis.iloc[:,1].values)\n",
    "\n",
    "for sclass in tqdm(superclass, desc = 'iterating super classes... for Sd'):\n",
    "    \n",
    "    sname = sclass[0]\n",
    "    cids = list(map(lambda x: cid_db_dict.get(str(x), None), drugs_full[drugs_full['superclass'] == sname]['PubChemID'].values))\n",
    "    cids = [x for x in cids if x]\n",
    "\n",
    "    print(f\"class {sname} - we are using {len(cids)}\")\n",
    "\n",
    "    #get all positive interactions with cids drugss\n",
    "    pos_interactions_sclass = drugbank_dtis[drugbank_dtis.iloc[:,0].isin(cids)].reset_index(drop=True)\n",
    "    sclass_drugs = set(pos_interactions_sclass.iloc[:,0].values)\n",
    "\n",
    "    #subsample as many negatives as positive we have\n",
    "    set_pos_interactions_sclass = set([tuple(x) for x in pos_interactions_sclass.values])\n",
    "    random.seed(seed)\n",
    "    neg_interactions = random.sample(set(itertools.product(sclass_drugs, genes)).difference(set_pos_interactions_sclass), pos_interactions_sclass.shape[0])\n",
    "    \n",
    "    #build pos and neg dataframes\n",
    "    neg_interactions_sclass = pd.DataFrame(neg_interactions)\n",
    "    neg_interactions_sclass.columns = ['Drug ID', 'Gene']\n",
    "    pos_interactions_sclass['Label'] = 1\n",
    "    neg_interactions_sclass['Label'] = 0\n",
    "\n",
    "    #build a dataframe\n",
    "    sclass_df = build_row(pd.concat([pos_interactions_sclass, neg_interactions_sclass]))\n",
    "    sclass_df = sclass_df.sample(frac=1, random_state=seed)\n",
    "    folds_dict[sname] = sclass_df\n",
    "    folds.append(sclass_df)"
   ]
  },
  {
   "cell_type": "markdown",
   "metadata": {},
   "source": [
    "Lets check if they accomplish Sd requirements, i.e., every drug in each fold does not appear in any other fold"
   ]
  },
  {
   "cell_type": "code",
   "execution_count": 41,
   "metadata": {},
   "outputs": [
    {
     "name": "stdout",
     "output_type": "stream",
     "text": [
      "fold 0 - Sd accomplish!\n",
      "fold 1 - Sd accomplish!\n",
      "fold 2 - Sd accomplish!\n",
      "fold 3 - Sd accomplish!\n",
      "fold 4 - Sd accomplish!\n",
      "fold 5 - Sd accomplish!\n",
      "fold 6 - Sd accomplish!\n",
      "fold 7 - Sd accomplish!\n",
      "fold 8 - Sd accomplish!\n",
      "fold 9 - Sd accomplish!\n"
     ]
    }
   ],
   "source": [
    "## check Sd\n",
    "for i in range(len(folds)):\n",
    "    train_drugs = set(pd.concat(folds[:i] + folds[i+1:])['Drug ID'])\n",
    "    test_drugs = set(folds[i]['Drug ID'])\n",
    "    assert train_drugs.intersection(test_drugs) == set()\n",
    "    print(f\"fold {i} - Sd accomplish!\")"
   ]
  },
  {
   "cell_type": "markdown",
   "metadata": {},
   "source": [
    "Everything looks good, now we can save these folds. For every fold, 3 (train, val, test) .csv files will be generated.\n",
    "The test will contain interactions where drugs accomplish Sd constraints, and only belong to a single Superclass category."
   ]
  },
  {
   "cell_type": "code",
   "execution_count": 46,
   "metadata": {},
   "outputs": [],
   "source": [
    "#create folder\n",
    "seed_fpath = os.path.join('data','SplitsClassyfire_DrugBank',f'seed_{seed}')\n",
    "if not os.path.exists(seed_fpath):\n",
    "    os.makedirs(seed_fpath)\n",
    "\n",
    "#then folds\n",
    "info = []\n",
    "for i in range(len(folds)):\n",
    "    \n",
    "    #\n",
    "    info.append((i, superclass[i][0], folds[i].shape[0]))\n",
    "\n",
    "    #create folder\n",
    "    fold_fpath = os.path.join(seed_fpath, f'fold{i}')\n",
    "    if not os.path.exists(fold_fpath):\n",
    "        os.makedirs(fold_fpath)\n",
    "\n",
    "    #create train val and test\n",
    "    train_drugs = pd.concat(folds[:i] + folds[i+1:]).reset_index(drop=True)\n",
    "    test_drugs = folds[i].reset_index(drop=True)\n",
    "    train_drugs, val_drugs = train_test_split(train_drugs, test_size = 0.2)\n",
    "\n",
    "    ##save it\n",
    "    train_drugs.to_csv(os.path.join(fold_fpath, 'train.csv'))\n",
    "    val_drugs.to_csv(os.path.join(fold_fpath, 'val.csv'))\n",
    "    test_drugs.to_csv(os.path.join(fold_fpath, 'test.csv'))\n",
    "\n",
    "#build info dataframe and save it\n",
    "info_df = pd.DataFrame(info)\n",
    "info_df.columns = ['fold','superclass', '#edges']\n",
    "info_df.to_csv(os.path.join('data','SplitsClassyfire_DrugBank', 'info.tsv'),sep='\\t')"
   ]
  },
  {
   "cell_type": "markdown",
   "metadata": {},
   "source": [
    "These folds can be easily run by some of the inductive methods evaluated in the paper, such as Moltrans or HyperAttentionDTI. \n",
    "For instance, you can run Moltrans on these folds using the following commands:"
   ]
  }
 ],
 "metadata": {
  "kernelspec": {
   "display_name": "Python 3",
   "language": "python",
   "name": "python3"
  },
  "language_info": {
   "codemirror_mode": {
    "name": "ipython",
    "version": 3
   },
   "file_extension": ".py",
   "mimetype": "text/x-python",
   "name": "python",
   "nbconvert_exporter": "python",
   "pygments_lexer": "ipython3",
   "version": "3.8.10"
  }
 },
 "nbformat": 4,
 "nbformat_minor": 2
}
